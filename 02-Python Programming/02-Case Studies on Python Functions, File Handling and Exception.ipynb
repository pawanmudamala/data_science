{
 "cells": [
  {
   "cell_type": "markdown",
   "id": "fb2f8e5f",
   "metadata": {},
   "source": [
    "### 1. Write a program that calculates and prints the value according to the given formula:\n",
    "Q = Square root of [(2 * C * D)/H]\n",
    "\n",
    "<br> Following are the fixed values of C and H: C is 50. H is 30.\n",
    "<br> D  is  the  variable  whose  values  should  be  input  to  your  program  in  a  comma-separated sequence.\n",
    "\n",
    "<br> Example:\n",
    "- Let  us  assume  the  following  comma  separated  input  sequence  is  given  to  the program:\n",
    "100,150,180\n",
    "- The output of the program should be:\n",
    "18,22,24"
   ]
  },
  {
   "cell_type": "code",
   "execution_count": 3,
   "id": "8090eb07",
   "metadata": {},
   "outputs": [
    {
     "name": "stdout",
     "output_type": "stream",
     "text": [
      "Enter multiple comma separated integer values : \n",
      "100,150,180\n",
      "\n",
      "The values of input are [100, 150, 180]\n",
      "\n",
      "The values of output are [18, 22, 24]\n"
     ]
    }
   ],
   "source": [
    "from math import sqrt\n",
    "\n",
    "calculated_output=[]\n",
    "\n",
    "def calculated_func(digit):\n",
    "    c=50\n",
    "    h=30\n",
    "    calculated_output=round(sqrt((2*c*digit)/h))\n",
    "    return calculated_output\n",
    "\n",
    "while True:\n",
    "    try:\n",
    "        user_math_input_list = [int(x) for x in input(\"Enter multiple comma separated integer values : \\n\").split(',')]\n",
    "        for digit in user_math_input_list:\n",
    "            calculated_output.append(calculated_func(digit))\n",
    "        break\n",
    "    except:\n",
    "        print('Incorrect input')\n",
    "        break\n",
    "\n",
    "print(\"\\nThe values of input are\", user_math_input_list)\n",
    "print(\"\\nThe values of output are\", calculated_output)"
   ]
  },
  {
   "cell_type": "markdown",
   "id": "0424b0a3",
   "metadata": {},
   "source": [
    "### 2. Write a program which can compute the factorial of a given numbers. Use recursion  to find it.\n",
    "- Hint: Suppose the following input is supplied to the program: 8\n",
    "- Then, the output should be: 40320"
   ]
  },
  {
   "cell_type": "code",
   "execution_count": 7,
   "id": "234a6cec",
   "metadata": {},
   "outputs": [
    {
     "name": "stdout",
     "output_type": "stream",
     "text": [
      "Please enter the number to get factorial :7\n",
      "The Factorial of 7 is : 5040\n",
      "Thank you !\n"
     ]
    }
   ],
   "source": [
    "factorial_result = 1\n",
    "try:\n",
    "    user_fact_input=int(input('Please enter the number to get factorial :'))\n",
    "    user_fact_input_copy=user_fact_input\n",
    "\n",
    "    if user_fact_input==0:\n",
    "        print('The Factorial of 0 is 1')\n",
    "    elif user_fact_input==1:\n",
    "        print('The Factorial of 1 is 1')\n",
    "    elif user_fact_input<0:\n",
    "        print('Cannot have Factorial of negative number')\n",
    "    else:\n",
    "        while user_fact_input>=1:\n",
    "            factorial_result=factorial_result*user_fact_input\n",
    "            user_fact_input-=1\n",
    "        print('The Factorial of',user_fact_input_copy,'is :',factorial_result)\n",
    "except:\n",
    "    print('Wrong input entered')\n",
    "finally:\n",
    "    print('Thank you !')"
   ]
  },
  {
   "cell_type": "markdown",
   "id": "d6ea5492",
   "metadata": {},
   "source": [
    "### 3. A website requires a user to input username and password to register. Write a program to check the validity of password given by user.\n",
    "Following are the criteria for checking password:\n",
    "1. At least 1 letter between [a-z]\n",
    "2. At least 1 number between [0-9]\n",
    "3. At least 1 letter between [A-Z]\n",
    "4. At least 1 character from [$#@]\n",
    "5. Minimum length of transaction password: 6\n",
    "6. Maximum length of transaction password: 12"
   ]
  },
  {
   "cell_type": "code",
   "execution_count": 15,
   "id": "b7bf6175",
   "metadata": {},
   "outputs": [],
   "source": [
    "def check_lower_case(password):\n",
    "    contains_lower = False\n",
    "    for string in password:\n",
    "        if string.islower():\n",
    "            contains_lower = True\n",
    "            break\n",
    "    return contains_lower"
   ]
  },
  {
   "cell_type": "code",
   "execution_count": 16,
   "id": "766a2fbd",
   "metadata": {},
   "outputs": [],
   "source": [
    "def check_upper_case(password):\n",
    "    contains_upper = False\n",
    "    for string in password:\n",
    "        if string.isupper():\n",
    "            contains_upper = True\n",
    "            break\n",
    "    return contains_upper"
   ]
  },
  {
   "cell_type": "code",
   "execution_count": 17,
   "id": "f60dbce8",
   "metadata": {},
   "outputs": [],
   "source": [
    "def check_digit(password):\n",
    "    contains_digit = False\n",
    "    for string in password:\n",
    "        if string.isnumeric():\n",
    "            contains_digit = True\n",
    "            break\n",
    "    return contains_digit"
   ]
  },
  {
   "cell_type": "code",
   "execution_count": 18,
   "id": "3631d82e",
   "metadata": {},
   "outputs": [],
   "source": [
    "def check_special_characters(password):\n",
    "    contains_special_chars = False\n",
    "    special_chars = \"$#@\"\n",
    "    for string in password:\n",
    "        if string in special_chars:\n",
    "            contains_special_chars = True\n",
    "            break\n",
    "    return contains_special_chars"
   ]
  },
  {
   "cell_type": "code",
   "execution_count": 19,
   "id": "1dedc40d",
   "metadata": {},
   "outputs": [],
   "source": [
    "def validate_length(password):\n",
    "    length = len(password)\n",
    "    return length >= 6 and length <= 12"
   ]
  },
  {
   "cell_type": "code",
   "execution_count": 24,
   "id": "16ab35bd",
   "metadata": {},
   "outputs": [],
   "source": [
    "def validate_password(password):\n",
    "    return check_lower_case(password) and check_upper_case(password) and check_digit(password) and check_special_characters(password) and validate_length(password)"
   ]
  },
  {
   "cell_type": "code",
   "execution_count": 26,
   "id": "4142d6c2",
   "metadata": {},
   "outputs": [
    {
     "name": "stdout",
     "output_type": "stream",
     "text": [
      "Enter password\n",
      ">>> iso@HELP1234\n",
      "Password is valid.\n"
     ]
    }
   ],
   "source": [
    "print(\"Enter password\")\n",
    "password = input(\">>> \")\n",
    "\n",
    "if validate_password(password):\n",
    "    print(\"Password is valid.\")\n",
    "else:\n",
    "    print(\"Password is not valid.\")"
   ]
  },
  {
   "cell_type": "markdown",
   "id": "bb29f448",
   "metadata": {},
   "source": [
    "### 4. Case Study - Design a software for bank system. There should be options like cash withdraw, cash credit and change password.\n",
    "- According to user input, the software should provide required output."
   ]
  },
  {
   "cell_type": "code",
   "execution_count": 8,
   "id": "6ccf3cf3",
   "metadata": {},
   "outputs": [],
   "source": [
    "account_balance=100000\n",
    "current_password='Abc@123'"
   ]
  },
  {
   "cell_type": "code",
   "execution_count": 9,
   "id": "3308381c",
   "metadata": {},
   "outputs": [],
   "source": [
    "def cash_withdraw(account_balance,withdraw_amount):\n",
    "    if withdraw_amount>=account_balance:\n",
    "        print('Insufficient Balance')\n",
    "    else:\n",
    "        account_balance=account_balance-withdraw_amount\n",
    "        print('Withdrawal Amount of ',withdraw_amount,'successful ')\n",
    "        print('Current Account Balance is ',account_balance)\n",
    "    return account_balance"
   ]
  },
  {
   "cell_type": "code",
   "execution_count": 10,
   "id": "e5ca5b94",
   "metadata": {},
   "outputs": [],
   "source": [
    "def cash_credit(account_balance,credit_amount):\n",
    "        account_balance=account_balance+credit_amount\n",
    "        print('Credit Amount of ',credit_amount,'successful ')\n",
    "        print('Current Account Balance is ',account_balance)\n",
    "        return account_balance"
   ]
  },
  {
   "cell_type": "code",
   "execution_count": 11,
   "id": "a3eba9c3",
   "metadata": {},
   "outputs": [
    {
     "name": "stdout",
     "output_type": "stream",
     "text": [
      "Welcome to ABC Bank\n",
      " 1. Cash Withdraw \n",
      " 2. Cash Credit \n",
      " 3. Change password \n",
      " 4. Exit\n",
      "Please select any one option to continue :1\n",
      "Your current account_balance is : 100000\n",
      "Please enter the amount to be withdrawn :10000\n",
      "Withdrawal Amount of  10000 successful \n",
      "Current Account Balance is  90000\n",
      "Thank you for banking with us\n"
     ]
    }
   ],
   "source": [
    "try:\n",
    "    while True:\n",
    "        print('Welcome to ABC Bank')\n",
    "        print(' 1. Cash Withdraw \\n 2. Cash Credit \\n 3. Change password \\n 4. Exit')\n",
    "        user_option = int(input('Please select any one option to continue :'))\n",
    "        if user_option == 1:\n",
    "            print('Your current account_balance is :',account_balance)\n",
    "            user_withdrawal_amount = int(input('Please enter the amount to be withdrawn :'))\n",
    "            account_balance = cash_withdraw(account_balance, user_withdrawal_amount)\n",
    "            break\n",
    "        elif user_option == 2:\n",
    "            print('Your current account_balance is :', account_balance)\n",
    "            user_credit_amount = int(input('Please enter the amount to be credited :'))\n",
    "            account_balance = cash_credit(account_balance, user_credit_amount)\n",
    "            break\n",
    "        elif user_option == 3:\n",
    "            user_current_password=str(input('Please enter your current password : '))\n",
    "            if user_current_password==current_password:\n",
    "                new_password=str(input('Please enter new password : '))\n",
    "                current_password=new_password\n",
    "                print('Password has been successfully changed')\n",
    "                break\n",
    "            else:\n",
    "                print('Entered password does not match Old password')\n",
    "                break\n",
    "        elif user_option == 4:\n",
    "            break\n",
    "        else:\n",
    "            print('Wrong option selected')\n",
    "            break\n",
    "except:\n",
    "    print('Wrong Input')\n",
    "finally:\n",
    "    print('Thank you for banking with us')\n"
   ]
  },
  {
   "cell_type": "markdown",
   "id": "d91e5faf",
   "metadata": {},
   "source": [
    "### 5. Perform all the file operations on lib.txt file"
   ]
  },
  {
   "cell_type": "code",
   "execution_count": 43,
   "id": "15985fb3",
   "metadata": {},
   "outputs": [],
   "source": [
    "def read_my_file(filename) :\n",
    "    contents = \"\"\n",
    "    with open(filename,'r') as f:\n",
    "        contents = f.read()\n",
    "    return contents\n",
    "\n",
    "\n",
    "def read_my_file(filename, chunk_size) :\n",
    "    data = \"\"\n",
    "    with open(filename,'r') as f:\n",
    "        chunk = f.read(chunk_size)\n",
    "        data = chunk\n",
    "    return data\n",
    "\n",
    "def read_my_file(filename, chunk_size, allData) :\n",
    "    allChunks = {}\n",
    "    with open(filename,'r') as f :\n",
    "        chunk = f.read(chunk_size)\n",
    "        current = f.tell()\n",
    "        allChunks[current] = chunk\n",
    "        if allData == True :\n",
    "            while(len(chunk)>0):\n",
    "                chunk = f.read(chunk_size)\n",
    "                current = f.tell()\n",
    "                allChunks[current] = chunk\n",
    "    return allChunks"
   ]
  },
  {
   "cell_type": "markdown",
   "id": "255020c7",
   "metadata": {},
   "source": [
    "#### Reading all the content"
   ]
  },
  {
   "cell_type": "code",
   "execution_count": 38,
   "id": "5fadeaa3",
   "metadata": {},
   "outputs": [
    {
     "name": "stdout",
     "output_type": "stream",
     "text": [
      "Hello, there!\n",
      "Here are a few helpful Python libraries:\n",
      "1) NumPy\n",
      "2) pandas\n",
      "3) matplotlib\n",
      "4) seaborn\n",
      "5) scikit-learn\n",
      "6) BeautifulSoup\n",
      "7) Scrapy\n",
      "8) nltk\n",
      "9) Bokeh\n",
      "10) statsmodels\n"
     ]
    }
   ],
   "source": [
    "filename = \"lib.txt\"\n",
    "contents = read_my_file(filename)\n",
    "print(contents)"
   ]
  },
  {
   "cell_type": "markdown",
   "id": "5852e88b",
   "metadata": {},
   "source": [
    "#### Reading all the content line by line"
   ]
  },
  {
   "cell_type": "code",
   "execution_count": 37,
   "id": "543d1c5a",
   "metadata": {},
   "outputs": [
    {
     "name": "stdout",
     "output_type": "stream",
     "text": [
      "Hello, there!\n",
      "Here are a few helpful Python libraries:\n",
      "1) NumPy\n",
      "2) pandas\n",
      "3) matplotlib\n",
      "4) seaborn\n",
      "5) scikit-learn\n",
      "6) BeautifulSoup\n",
      "7) Scrapy\n",
      "8) nltk\n",
      "9) Bokeh\n",
      "10) statsmodels"
     ]
    }
   ],
   "source": [
    "with open('lib.txt','r') as f:\n",
    "    for line in f:\n",
    "        print(line, end='')"
   ]
  },
  {
   "cell_type": "markdown",
   "id": "933bf8ad",
   "metadata": {},
   "source": [
    "#### Reading all the specific bytes"
   ]
  },
  {
   "cell_type": "code",
   "execution_count": 42,
   "id": "fd19ab9f",
   "metadata": {},
   "outputs": [
    {
     "data": {
      "text/plain": [
       "{5: 'Hello'}"
      ]
     },
     "execution_count": 42,
     "metadata": {},
     "output_type": "execute_result"
    }
   ],
   "source": [
    "read_my_file(filename, 5)"
   ]
  },
  {
   "cell_type": "markdown",
   "id": "30c36f49",
   "metadata": {},
   "source": [
    "#### Reading all the content by chuck of specific size"
   ]
  },
  {
   "cell_type": "code",
   "execution_count": 45,
   "id": "d09150a3",
   "metadata": {},
   "outputs": [
    {
     "data": {
      "text/plain": [
       "{10: 'Hello, the',\n",
       " 21: 're!\\nHere a',\n",
       " 31: 're a few h',\n",
       " 41: 'elpful Pyt',\n",
       " 51: 'hon librar',\n",
       " 62: 'ies:\\n1) Nu',\n",
       " 73: 'mPy\\n2) pan',\n",
       " 84: 'das\\n3) mat',\n",
       " 95: 'plotlib\\n4)',\n",
       " 106: ' seaborn\\n5',\n",
       " 116: ') scikit-l',\n",
       " 127: 'earn\\n6) Be',\n",
       " 137: 'autifulSou',\n",
       " 148: 'p\\n7) Scrap',\n",
       " 160: 'y\\n8) nltk\\n',\n",
       " 171: '9) Bokeh\\n1',\n",
       " 181: '0) statsmo',\n",
       " 185: ''}"
      ]
     },
     "execution_count": 45,
     "metadata": {},
     "output_type": "execute_result"
    }
   ],
   "source": [
    "read_my_file(filename, 10, True)"
   ]
  },
  {
   "cell_type": "markdown",
   "id": "2ff8ca59",
   "metadata": {},
   "source": [
    "### 6. Case Study - Domain – Banking Marketing\n",
    "\n",
    "#### Requirement - SBI runs marketing campaign to offer loans to clients.  Loan is offered to only clients with particular professions. \n",
    "\n",
    "<br> List of successful campaigns(with client data) is given in dataset. \n",
    "<br> You have to come up with program which reads the file and builds a set of unique profession list and given input profession of client – system tells whether client is eligible to be approached for marketing campaign.\n",
    "\n",
    "Key issues :\n",
    "Tele Caller can only make x number of cold calls in a day. Hence to increase her effectiveness only eligible customers should be called\n",
    "\n",
    "Considerations \n",
    "Current system does not differentiate clients based on age and profession\n",
    "\n",
    "Data volume :-\n",
    "447 records in bank-data.csv\n",
    "\n",
    "Additional information :- NA\n",
    "\n",
    "Business benefits :-\n",
    "Company can achieve between 15% to 20% higher conversion by targeting right clients"
   ]
  },
  {
   "cell_type": "markdown",
   "id": "4a00002d",
   "metadata": {},
   "source": [
    "#### Approach to Solve\n",
    "\n",
    "1. Read file bank - data.csv\n",
    "2. Build a set of unique jobs\n",
    "3. Read the input from command line – profession\n",
    "4. Check if profession is in list\n",
    "5. Print whether client is eligible\n",
    "\n",
    "#### Refer to CheckForProfessionEligibility.py for solution and bank-data.csv for data Enhancements for code \n",
    "You can try these enhancements in code\n",
    "1. Compute max and min age for loan eligibility based on data in csv file\n",
    "2. Store max and min age in dictionary\n",
    "3. Make the profession check case insensitive \n",
    "4. Currently program ends after the check. Take the input in while loop and end only if user types \"END\" for profession"
   ]
  },
  {
   "cell_type": "code",
   "execution_count": 48,
   "id": "6ccfa046",
   "metadata": {},
   "outputs": [],
   "source": [
    "import csv\n",
    "\n",
    "unique_job=[]\n",
    "\n",
    "with open('bank-data.csv', newline='') as csvfile:\n",
    "    data = csv.DictReader(csvfile)\n",
    "    for row in data:\n",
    "        unique_job.append((row['job'],int(row['age'])))\n",
    "        \n",
    "unique_job=list(set(unique_job))\n"
   ]
  },
  {
   "cell_type": "code",
   "execution_count": 59,
   "id": "92f43d26",
   "metadata": {},
   "outputs": [
    {
     "data": {
      "text/plain": [
       "{'admin.',\n",
       " 'blue-collar',\n",
       " 'entrepreneur',\n",
       " 'housemaid',\n",
       " 'management',\n",
       " 'self-employed',\n",
       " 'services',\n",
       " 'student',\n",
       " 'technician'}"
      ]
     },
     "execution_count": 59,
     "metadata": {},
     "output_type": "execute_result"
    }
   ],
   "source": [
    "unique_job_list = []\n",
    "for job in range(len(unique_job)) :\n",
    "    j = unique_job[job][0]\n",
    "    unique_job_list.append(j)\n",
    "unique_jobs = set(unique_job_list)\n",
    "unique_jobs"
   ]
  },
  {
   "cell_type": "code",
   "execution_count": 52,
   "id": "d0e389fc",
   "metadata": {},
   "outputs": [],
   "source": [
    "def min_age_func(list_unique_job,v_user_profession):\n",
    "    min_age=[]\n",
    "    for i in list_unique_job:\n",
    "        if i[0] == v_user_profession:\n",
    "            min_age.append(i[1])\n",
    "        else:\n",
    "            pass\n",
    "    return min(min_age)"
   ]
  },
  {
   "cell_type": "code",
   "execution_count": 53,
   "id": "e484f243",
   "metadata": {},
   "outputs": [],
   "source": [
    "def max_age_func(unique_job,user_profession):\n",
    "    max_age = []\n",
    "    for i in unique_job:\n",
    "        if i[0] == user_profession:\n",
    "            max_age.append(i[1])\n",
    "        else:\n",
    "            pass\n",
    "    return max(max_age)"
   ]
  },
  {
   "cell_type": "code",
   "execution_count": 61,
   "id": "b8ea2f22",
   "metadata": {},
   "outputs": [
    {
     "name": "stdout",
     "output_type": "stream",
     "text": [
      "Enter your profession :12\n",
      "Sorry, you are not eligible for the loan.\n",
      "Do you wish to continue ? : \n",
      " 1. Press Y for Yes \n",
      " 2. Press N for no \n",
      "Y\n",
      "Enter your profession :student\n",
      "Enter your age :as\n",
      "Wrong input entered\n",
      "Thank you !\n"
     ]
    }
   ],
   "source": [
    "try:\n",
    "    while True:\n",
    "        job_yes_counter = 0\n",
    "        user_profession = str(input('Enter your profession :')).lower()\n",
    "        for element in unique_job:\n",
    "            if user_profession == element[0]:\n",
    "                job_yes_counter += 1\n",
    "            else:\n",
    "                pass\n",
    "\n",
    "        if job_yes_counter >= 1:\n",
    "            my_user_age = 0\n",
    "            my_user_age = int(input('Enter your age :'))\n",
    "            min_age = min_age_func(unique_job, user_profession)\n",
    "            max_age = max_age_func(unique_job, user_profession)\n",
    "            if my_user_age >= min_age and my_user_age <= max_age:\n",
    "                print('Yes, you are eligible for a loan from SBI')\n",
    "            elif my_user_age<min_age:\n",
    "                print('Sorry, you are not eligible for the loan as your age is too less')\n",
    "            else:\n",
    "                print('Sorry, you are not eligible for the loan as your age is too high')\n",
    "        else:\n",
    "            print('Sorry, you are not eligible for the loan.')\n",
    "\n",
    "        user_acceptance = str(input('Do you wish to continue ? : \\n 1. Press Y for Yes \\n 2. Press N for no \\n')).lower()\n",
    "        if user_acceptance == 'y' or user_acceptance == 'yes':\n",
    "            continue\n",
    "        else:\n",
    "            break\n",
    "except:\n",
    "    print('Wrong input entered')\n",
    "finally:\n",
    "    print('Thank you !')"
   ]
  },
  {
   "cell_type": "code",
   "execution_count": null,
   "id": "e91af7f2",
   "metadata": {},
   "outputs": [],
   "source": []
  }
 ],
 "metadata": {
  "kernelspec": {
   "display_name": "Python 3 (ipykernel)",
   "language": "python",
   "name": "python3"
  },
  "language_info": {
   "codemirror_mode": {
    "name": "ipython",
    "version": 3
   },
   "file_extension": ".py",
   "mimetype": "text/x-python",
   "name": "python",
   "nbconvert_exporter": "python",
   "pygments_lexer": "ipython3",
   "version": "3.9.16"
  }
 },
 "nbformat": 4,
 "nbformat_minor": 5
}
