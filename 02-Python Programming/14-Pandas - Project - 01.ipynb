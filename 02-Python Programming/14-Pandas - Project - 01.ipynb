{
 "cells": [
  {
   "cell_type": "markdown",
   "id": "ccde0e4d",
   "metadata": {},
   "source": [
    "### Project\n",
    "------------\n",
    "### PART - A\n",
    "------------\n",
    "1. Create a pandas data frame consisting of 4 columns and 20 rows.\n",
    "\t- Column 1 should have values between 0 to 25.\n",
    "\t- Column 2 should have values between -10 to 10.\n",
    "\t- Column 3 should have values by multiplying column 1 and 2.\n",
    "\t- Column 4 should have value “Positive” if column 3 is a positive number.\n",
    "\t- Column 4 should have value “Negative” if column 3 is a negative number.\n",
    "2. Create a new data frame of 1 column and 20 rows having random alphanumeric values of size 5. Name the column as ‘Password’\n",
    "3. Merge both the data frames to one single data frame.\n",
    "4. Create a 2 new columns i.e. ‘Word’ and ‘Number’ by separating the alphabets and numbers from column “Password”.\n",
    "5. Create a new column ‘Anomaly’. This column should have value ‘Found’ if the row entry in ‘Number’ is empty.\n",
    "6. Insert a new column “Date” by inserting the current date. [ format: mmm-dd-yyyy ]\n",
    "7. Insert a new column “Time” by inserting the current time. [ format: hh-mm-ss ]\n",
    "8. Create a new column ‘Comment’. This column should have value ‘Non office hours of working’ if the row entry in ‘Time’ is not between 9 am to 7 pm.\n",
    "9. Export the data frames to excel, csv, html and json formats.\n",
    "10. Measure and display how much time it takes to execute the code. Optimise your code to reduce the time. Is this posible ?"
   ]
  },
  {
   "cell_type": "code",
   "execution_count": null,
   "id": "a18ebd28",
   "metadata": {},
   "outputs": [],
   "source": []
  },
  {
   "cell_type": "markdown",
   "id": "f032f089",
   "metadata": {},
   "source": [
    "### PART - B\n",
    "---------------\n",
    "Automate all the tasks listed in part A.\n",
    "\n",
    "- Your function should be able to create datasets with N rows. [ Where N is defined by the user. N is any integer. ]\n",
    "- Your function should be able to export datasets onto local machine in excel, csv, json, html or all formats. User can choose this.\n",
    "- Purpose of this function is to allow user to generate a dataset with N rows and store it on local machine. You might need to write a web of complex interrelated functions"
   ]
  },
  {
   "cell_type": "code",
   "execution_count": null,
   "id": "b0c806da",
   "metadata": {},
   "outputs": [],
   "source": []
  }
 ],
 "metadata": {
  "kernelspec": {
   "display_name": "Python 3 (ipykernel)",
   "language": "python",
   "name": "python3"
  },
  "language_info": {
   "codemirror_mode": {
    "name": "ipython",
    "version": 3
   },
   "file_extension": ".py",
   "mimetype": "text/x-python",
   "name": "python",
   "nbconvert_exporter": "python",
   "pygments_lexer": "ipython3",
   "version": "3.9.13"
  }
 },
 "nbformat": 4,
 "nbformat_minor": 5
}
