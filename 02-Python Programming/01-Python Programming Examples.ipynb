{
 "cells": [
  {
   "cell_type": "code",
   "execution_count": null,
   "id": "fdd85d03",
   "metadata": {},
   "outputs": [],
   "source": [
    "print(\"Hello, Welcome to Every One\")"
   ]
  },
  {
   "cell_type": "markdown",
   "id": "d630ce8e",
   "metadata": {},
   "source": [
    "### <font color = 'brown'> 1. With a given integral number n, write a program to generate a dictionary that contains (i, i*i) such that is an integral number between 1 and n (both included). and then the program should print the dictionary. </font>\n",
    "\n",
    "- Suppose the following input is supplied to the program: 8\n",
    "- Then, the output should be:\n",
    "{1: 1, 2: 4, 3: 9, 4: 16, 5: 25, 6: 36, 7: 49, 8: 64}"
   ]
  },
  {
   "cell_type": "code",
   "execution_count": 89,
   "id": "c21b3ac2",
   "metadata": {},
   "outputs": [],
   "source": [
    "n = 8\n",
    "mydict = {}\n",
    "for i in range(1,n+1) :\n",
    "    key = i\n",
    "    value = i * i\n",
    "    mydict[key] = value"
   ]
  },
  {
   "cell_type": "code",
   "execution_count": 90,
   "id": "3ea6c0f2",
   "metadata": {},
   "outputs": [
    {
     "data": {
      "text/plain": [
       "{1: 1, 2: 4, 3: 9, 4: 16, 5: 25, 6: 36, 7: 49, 8: 64}"
      ]
     },
     "execution_count": 90,
     "metadata": {},
     "output_type": "execute_result"
    }
   ],
   "source": [
    "mydict"
   ]
  },
  {
   "cell_type": "markdown",
   "id": "59317c65",
   "metadata": {},
   "source": [
    "### <font color = 'brown'> 2. Write a program which accepts a sequence of comma-separated numbers from console and generate a list and a tuple which contains every number. </font>\n",
    "- Suppose the following input is supplied to the program : 34,67,55,33,12,98\n",
    "- Then, the output should be : \n",
    "<br>['34', '67', '55', '33', '12', '98']\n",
    "<br>('34', '67', '55', '33', '12', '98')"
   ]
  },
  {
   "cell_type": "code",
   "execution_count": 91,
   "id": "1ead96c9",
   "metadata": {},
   "outputs": [
    {
     "name": "stdout",
     "output_type": "stream",
     "text": [
      "sequence of comma-separated numbers34,67,55,33,12,98\n",
      "List  = ['34', '67', '55', '33', '12', '98']\n",
      "Tuple = ('34', '67', '55', '33', '12', '98')\n"
     ]
    }
   ],
   "source": [
    "numbers = input(\"sequence of comma-separated numbers\")\n",
    "list_numbers = numbers.split(\",\")\n",
    "tuple_numbers = tuple(list_numbers)\n",
    "\n",
    "print(\"List  = {}\".format(list_numbers))\n",
    "print(\"Tuple = {}\".format(tuple_numbers))"
   ]
  },
  {
   "cell_type": "code",
   "execution_count": 92,
   "id": "42b98ef3",
   "metadata": {},
   "outputs": [
    {
     "name": "stdout",
     "output_type": "stream",
     "text": [
      "sequence of comma-separated numbers34,67,55,33,12,98\n",
      "List  = [34, 67, 55, 33, 12, 98]\n",
      "Tuple = (34, 67, 55, 33, 12, 98)\n"
     ]
    }
   ],
   "source": [
    "numbers = input(\"sequence of comma-separated numbers\")\n",
    "allnumbers = numbers.split(\",\")\n",
    "list_numbers = []\n",
    "tuple_numbers = ()\n",
    "for i in allnumbers :\n",
    "    list_numbers.append(int(i))\n",
    "    \n",
    "tuple_numbers = tuple(list_numbers)\n",
    "\n",
    "print(\"List  = {}\".format(list_numbers))\n",
    "print(\"Tuple = {}\".format(tuple_numbers))"
   ]
  },
  {
   "cell_type": "markdown",
   "id": "80f9a34c",
   "metadata": {},
   "source": [
    "### <font color='brown'> 3. Write a program that calculates and prints the value according to the given formula:</font>\n",
    "Q = Square root of [(2 * C * D)/H]\n",
    "\n",
    "<br> Following are the fixed values of C and H :\n",
    "- C is 50. H is 30.\n",
    "- D is the variable whose values should be input to your program in a comma-separated sequence.\n",
    "\n",
    "<br><b>Example</b>\n",
    "- Let us assume the following comma separated input sequence is given to the program: 100,150,180\n",
    "- The output of the program should be: 18,22,24"
   ]
  },
  {
   "cell_type": "code",
   "execution_count": 95,
   "id": "d73d211f",
   "metadata": {},
   "outputs": [
    {
     "name": "stdout",
     "output_type": "stream",
     "text": [
      "100,150,180\n"
     ]
    },
    {
     "data": {
      "text/plain": [
       "[18, 22, 24]"
      ]
     },
     "execution_count": 95,
     "metadata": {},
     "output_type": "execute_result"
    }
   ],
   "source": [
    "import math\n",
    "\n",
    "C = 50\n",
    "H = 30\n",
    "output = []\n",
    "d_values = input()\n",
    "for d in d_values.split(\",\") :\n",
    "    d = int(d)\n",
    "    q = (2 * C * d)/H\n",
    "    q = math.sqrt(q)\n",
    "    output.append(int(q))\n",
    "output"
   ]
  },
  {
   "cell_type": "markdown",
   "id": "bfadaf4f",
   "metadata": {},
   "source": [
    "### <font color='brown'> 4. Write a program which takes 2 digits, X,Y as input and generates a 2-dimensional array. The element value in the i-th row and j-th column of the array should be i*j.</font>\n",
    "Note: i=0,1.., X-1; j=0,1,...,Y-1.\n",
    "\n",
    "<br> <b>Example</b>\n",
    "- Suppose the following inputs are given to the program: 3,5\n",
    "- Then, the output of the program should be:\n",
    "[[0, 0, 0, 0, 0], [0, 1, 2, 3, 4], [0, 2, 4, 6, 8]] "
   ]
  },
  {
   "cell_type": "code",
   "execution_count": 96,
   "id": "9bbda1fc",
   "metadata": {},
   "outputs": [
    {
     "name": "stdout",
     "output_type": "stream",
     "text": [
      "Enter the dimension of the array3,5\n"
     ]
    },
    {
     "data": {
      "text/plain": [
       "[[0, 0, 0, 0, 0], [0, 1, 2, 3, 4], [0, 2, 4, 6, 8]]"
      ]
     },
     "execution_count": 96,
     "metadata": {},
     "output_type": "execute_result"
    }
   ],
   "source": [
    "XY = input(\"Enter the dimension of the array\")\n",
    "X = int(XY.split(\",\")[0])\n",
    "Y = int(XY.split(\",\")[1])\n",
    "array_2d = []\n",
    "for i in range(0,X) :\n",
    "    array = []\n",
    "    for j in range(0,Y) :\n",
    "        array.append(i*j)\n",
    "    array_2d.append(array)\n",
    "array_2d"
   ]
  },
  {
   "cell_type": "markdown",
   "id": "44c2e663",
   "metadata": {},
   "source": [
    "### <font color='brown' > 5. Write a code which accepts a sequence of words as input and prints the words in a sequence after sorting them alphabetically.</font>"
   ]
  },
  {
   "cell_type": "code",
   "execution_count": 97,
   "id": "9a429b3f",
   "metadata": {},
   "outputs": [
    {
     "name": "stdout",
     "output_type": "stream",
     "text": [
      "Enter the Words = sequence of words as input and prints \n",
      "Before Sort = ['sequence', 'of', 'words', 'as', 'input', 'and', 'prints', '']\n",
      "After  Sort = ['', 'and', 'as', 'input', 'of', 'prints', 'sequence', 'words']\n"
     ]
    }
   ],
   "source": [
    "input_words = input(\"Enter the Words = \")\n",
    "words = input_words.split(sep=\" \")\n",
    "old_words = words.copy()\n",
    "words.sort()\n",
    "print(\"Before Sort = {}\".format(old_words))\n",
    "print(\"After  Sort = {}\".format(words))"
   ]
  },
  {
   "cell_type": "code",
   "execution_count": 98,
   "id": "8c56f819",
   "metadata": {},
   "outputs": [
    {
     "name": "stdout",
     "output_type": "stream",
     "text": [
      "Enter the Words = sequence of words as input and prints AS\n",
      "Before Sort = ['sequence', 'of', 'words', 'as', 'input', 'and', 'prints', 'AS']\n",
      "After  Sort = ['and', 'as', 'AS', 'input', 'of', 'prints', 'sequence', 'words']\n"
     ]
    }
   ],
   "source": [
    "input_words = input(\"Enter the Words = \")\n",
    "words = input_words.split(sep=\" \")\n",
    "old_words = words.copy()\n",
    "words.sort(key=lambda y: y.lower())\n",
    "print(\"Before Sort = {}\".format(old_words))\n",
    "print(\"After  Sort = {}\".format(words))"
   ]
  },
  {
   "cell_type": "markdown",
   "id": "d47aa84d",
   "metadata": {},
   "source": [
    "### <font color = 'brown' > 6. Write a program that accepts a sentence and calculate the number of letters and digits. </font>\n",
    "<br> Suppose if the entered string is: Python0325 Then the output will be:\n",
    "<br>LETTERS: 6\n",
    "<br>DIGITS:4"
   ]
  },
  {
   "cell_type": "code",
   "execution_count": 99,
   "id": "3fad538b",
   "metadata": {},
   "outputs": [
    {
     "name": "stdout",
     "output_type": "stream",
     "text": [
      "Enter a word: Python0325\n",
      "LETTERS:  6\n",
      "DIGITS:  4\n"
     ]
    }
   ],
   "source": [
    "text_input=input('Enter a word: ')\n",
    "\n",
    "numeric_count  = 0\n",
    "alphabet_count = 0\n",
    "\n",
    "for letter in text_input:\n",
    "    if letter.isnumeric()==True:\n",
    "        numeric_count+=1\n",
    "    elif letter.isalpha()==True:\n",
    "        alphabet_count+=1\n",
    "    else:\n",
    "        pass\n",
    "    \n",
    "print('LETTERS: ',alphabet_count)\n",
    "print('DIGITS: ',numeric_count)"
   ]
  },
  {
   "cell_type": "markdown",
   "id": "dfd7dc1b",
   "metadata": {},
   "source": [
    "### <font color='brown'>8. Write a program which count and print the numbers of each character in a string input by console.</font>\n",
    "- Example: If the following string is given as input to the program: abcdefgabc\n",
    "- Then, the output of the program should be:\n",
    "<br>a,2\n",
    "<br>c,2\n",
    "<br>b,2\n",
    "<br>e,1\n",
    "<br>d,1\n",
    "<br>g,1\n",
    "<br>f,1\n",
    "..."
   ]
  },
  {
   "cell_type": "code",
   "execution_count": 103,
   "id": "66bb3b73",
   "metadata": {},
   "outputs": [
    {
     "name": "stdout",
     "output_type": "stream",
     "text": [
      "Enter the Stringabcdefgabc\n",
      "{'a', 'd', 'g', 'e', 'b', 'f', 'c'}\n"
     ]
    }
   ],
   "source": [
    "input_string = input(\"Enter the String\")\n",
    "input_set = set(input_string)\n",
    "print(input_set)"
   ]
  },
  {
   "cell_type": "code",
   "execution_count": 104,
   "id": "b3dbc1bb",
   "metadata": {},
   "outputs": [
    {
     "data": {
      "text/plain": [
       "['a', 'd', 'g', 'e', 'b', 'f', 'c']"
      ]
     },
     "execution_count": 104,
     "metadata": {},
     "output_type": "execute_result"
    }
   ],
   "source": [
    "input_list = list(input_set)\n",
    "input_list"
   ]
  },
  {
   "cell_type": "code",
   "execution_count": 105,
   "id": "16ac9dce",
   "metadata": {},
   "outputs": [
    {
     "name": "stdout",
     "output_type": "stream",
     "text": [
      "a , 2\n",
      "b , 2\n",
      "c , 2\n",
      "d , 1\n",
      "e , 1\n",
      "f , 1\n",
      "g , 1\n"
     ]
    }
   ],
   "source": [
    "input_list.sort()\n",
    "for char in input_list :\n",
    "    print(char,',',input_string.count(char))"
   ]
  },
  {
   "cell_type": "markdown",
   "id": "558bea6e",
   "metadata": {},
   "source": [
    "### <font color='brown'> 9. Write a program that accepts sequence of lines as input and prints the lines after making all characters in the sentence capitalized.</font>\n",
    "<br>Suppose the following input is supplied to the program:\n",
    "- Hello world\n",
    "- Practice makes perfect\n",
    "\n",
    "<br>Then, the output should be:\n",
    "- HELLO WORLD\n",
    "- PRACTICE MAKES PERFECT"
   ]
  },
  {
   "cell_type": "code",
   "execution_count": 106,
   "id": "2b0f2cb7",
   "metadata": {},
   "outputs": [
    {
     "name": "stdout",
     "output_type": "stream",
     "text": [
      "Enter Your input : \n",
      "\n",
      "Hello world\n",
      "Practice makes perfect\n",
      "\n",
      "HELLO WORLD\n",
      "PRACTICE MAKES PERFECT\n"
     ]
    }
   ],
   "source": [
    "complete_lines = []\n",
    "print('Enter Your input : \\n')\n",
    "while True:\n",
    "    user_line = input()\n",
    "    if user_line:\n",
    "        complete_lines.append(user_line.upper())\n",
    "    else:\n",
    "        break\n",
    "final_completed_line = '\\n'.join(complete_lines)\n",
    "\n",
    "print(final_completed_line)"
   ]
  },
  {
   "cell_type": "markdown",
   "id": "44100802",
   "metadata": {},
   "source": [
    "### <font color='brown'>10. Write a program that accepts a sequence of whitespace separated words as input and prints the words after removing all duplicate words and sorting them alphanumerically.</font>\n",
    "<br> Suppose the following input is supplied to the program:\n",
    "- hello world and practice makes perfect and hello world again\n",
    "<br> Then, the output should be:\n",
    "- again and hello makes perfect practice world"
   ]
  },
  {
   "cell_type": "code",
   "execution_count": 107,
   "id": "7ee9c77c",
   "metadata": {},
   "outputs": [
    {
     "name": "stdout",
     "output_type": "stream",
     "text": [
      "Enter the texthello world and practice makes perfect and hello world again\n",
      "The output is : \n",
      "again and hello makes perfect practice world "
     ]
    }
   ],
   "source": [
    "input_text = input(\"Enter the text\")\n",
    "input_list = input_text.split(\" \")\n",
    "input_set = set(input_list)\n",
    "input_list = list(input_set)\n",
    "input_list.sort()\n",
    "\n",
    "print('The output is : ')\n",
    "for i in range(len(input_list)):\n",
    "    print(input_list[i], end =\" \")"
   ]
  },
  {
   "cell_type": "code",
   "execution_count": 108,
   "id": "2707e905",
   "metadata": {},
   "outputs": [
    {
     "name": "stdout",
     "output_type": "stream",
     "text": [
      "Enter multiple whitespace separated values : \n",
      "hello world and practice makes perfect and hello world again\n"
     ]
    }
   ],
   "source": [
    "input_list = [x for x in input(\"Enter multiple whitespace separated values : \\n\").split(' ')]"
   ]
  },
  {
   "cell_type": "markdown",
   "id": "b6fd4922",
   "metadata": {},
   "source": [
    "### <font color = 'brown'> 11. Requirement - Validate the Reference ID of the user.</font>\n",
    "\n",
    "Approach to Solve :-\n",
    "\n",
    "1. Read the input from command line – Reference ID\n",
    "2. Check for validity – it should be 12 digits and allows on number and alphabet\n",
    "3. Encrypt the Reference ID and print it for reference\n",
    "\n",
    "Enhancements for code :-\n",
    "You can try these enhancements in code\n",
    "1. Allow some special characters in ReferenceID\n",
    "2. Give the option for decryption to user\n"
   ]
  },
  {
   "cell_type": "code",
   "execution_count": 109,
   "id": "1aa66d2a",
   "metadata": {},
   "outputs": [
    {
     "name": "stdout",
     "output_type": "stream",
     "text": [
      "Enter a Reference ID : zaq12WSX@@za\n",
      "Entered Reference ID is Valid\n"
     ]
    }
   ],
   "source": [
    "customer_input = str(input(\"Enter a Reference ID : \"))\n",
    "\n",
    "input_length =len(customer_input)\n",
    "\n",
    "lower_alpha_input,upper_alpha_input,num_input,special_input=0,0,0,0\n",
    "\n",
    "if (input_length==12):\n",
    "    for value in customer_input:\n",
    "\n",
    "        if (value.islower()):\n",
    "            lower_alpha_input += 1\n",
    "\n",
    "        if (value.isupper()):\n",
    "            upper_alpha_input += 1\n",
    "\n",
    "        if (value.isdigit()):\n",
    "            num_input += 1\n",
    "\n",
    "        if (value.isalnum()==False):\n",
    "            special_input += 1\n",
    "\n",
    "if (lower_alpha_input > 0 and upper_alpha_input >0 and num_input >0 and special_input > 0\n",
    "        and (lower_alpha_input + upper_alpha_input + num_input + special_input) == input_length):\n",
    "    print(\"Entered Reference ID is Valid\")\n",
    "else:\n",
    "    print(\"Entered Reference ID is InValid\")"
   ]
  },
  {
   "cell_type": "code",
   "execution_count": null,
   "id": "c4d460cd",
   "metadata": {},
   "outputs": [],
   "source": [
    "import rsa"
   ]
  },
  {
   "cell_type": "code",
   "execution_count": 110,
   "id": "9869df7c",
   "metadata": {},
   "outputs": [
    {
     "name": "stdout",
     "output_type": "stream",
     "text": [
      "original string:  zaq12WSX@@za\n",
      "encrypted string:  b'{;*C&\\nq0\\x10<\\x02\\xc2\\xe2x\\xaa\\x1acz\\xda\\x19\\xf3\\x02w\\xbb*\\xf6\\xe4\\xe1\\xf6z+D\\xd5\\xcf\\xb1N\\x13r\\xc4\\x8b\\xdb:6\\xc7;\\xae\\xdf\\xd3\\xa6\\xb1vq\\xb9\\x9f\\xc8\\x12\\xc2\\xd6\\x1e\\xec\\xea8\\xfbd'\n"
     ]
    }
   ],
   "source": [
    "publicKey, privateKey = rsa.newkeys(512)\n",
    "encReferenceID = rsa.encrypt(customer_input.encode(),publicKey)\n",
    " \n",
    "print(\"original string: \", customer_input)\n",
    "print(\"encrypted string: \", encReferenceID)"
   ]
  },
  {
   "cell_type": "code",
   "execution_count": 111,
   "id": "cf98ed50",
   "metadata": {},
   "outputs": [
    {
     "name": "stdout",
     "output_type": "stream",
     "text": [
      "decrypted string:  zaq12WSX@@za\n"
     ]
    }
   ],
   "source": [
    "decReferenceID = rsa.decrypt(encReferenceID, privateKey).decode()\n",
    " \n",
    "print(\"decrypted string: \", decReferenceID)"
   ]
  },
  {
   "cell_type": "markdown",
   "id": "887b413c",
   "metadata": {},
   "source": [
    "### <font color='brown'> 12. Write a program which accepts a sequence of comma separated 4 digit binary numbers as its input and then check whether they are divisible by 5 or not.\n",
    "- The numbers that are divisible by 5 are to be printed in a comma separated sequence. </font>"
   ]
  },
  {
   "cell_type": "code",
   "execution_count": 112,
   "id": "e2a2087f",
   "metadata": {},
   "outputs": [
    {
     "name": "stdout",
     "output_type": "stream",
     "text": [
      "Enter multiple comma separated values : \n",
      "1010,1111,1011\n",
      "The binary 1010  and its decimal value  10 is divisible by 5.\n",
      "The binary 1111  and its decimal value  15 is divisible by 5.\n",
      "Thank you !\n"
     ]
    }
   ],
   "source": [
    "def binaryToDecimal(n):\n",
    "    return int(n, 2)\n",
    "\n",
    "user_binary_input = [x for x in input(\"Enter multiple comma separated values : \\n\").split(',')]\n",
    "\n",
    "try:\n",
    "    for element in range(len(user_binary_input)):\n",
    "        decimal_output=binaryToDecimal(user_binary_input[element])\n",
    "        if decimal_output%5==0:\n",
    "            print('The binary',user_binary_input[element],' and its decimal value ',decimal_output,'is divisible by 5.')\n",
    "\n",
    "except:\n",
    "    print('Entered incorrect input')\n",
    "finally:\n",
    "    print('Thank you !')"
   ]
  },
  {
   "cell_type": "code",
   "execution_count": 113,
   "id": "7285f5ba",
   "metadata": {},
   "outputs": [
    {
     "name": "stdout",
     "output_type": "stream",
     "text": [
      "Enter multiple comma separated values : \n",
      "1010,1231\n",
      "The binary 1010  and its decimal value  10 is divisible by 5.\n",
      "Entered incorrect input\n",
      "Thank you !\n"
     ]
    }
   ],
   "source": [
    "def binaryToDecimal(n):\n",
    "    return int(n, 2)\n",
    "\n",
    "user_binary_input = [x for x in input(\"Enter multiple comma separated values : \\n\").split(',')]\n",
    "\n",
    "try:\n",
    "    for element in range(len(user_binary_input)):\n",
    "        decimal_output=binaryToDecimal(user_binary_input[element])\n",
    "        if decimal_output%5==0:\n",
    "            print('The binary',user_binary_input[element],' and its decimal value ',decimal_output,'is divisible by 5.')\n",
    "\n",
    "except:\n",
    "    print('Entered incorrect input')\n",
    "finally:\n",
    "    print('Thank you !')"
   ]
  },
  {
   "cell_type": "markdown",
   "id": "163e50d2",
   "metadata": {},
   "source": [
    "### <font color='brown'> 13. Write a program that accepts a sentence and calculate the number of upper case letters and lower case letters. </font>\n",
    "<br> Suppose the following input is supplied to the program: Hello world!\n",
    "<br> Then, the output should be:\n",
    "- UPPER CASE 1\n",
    "- LOWER CASE 9"
   ]
  },
  {
   "cell_type": "code",
   "execution_count": 114,
   "id": "5702c7a5",
   "metadata": {},
   "outputs": [
    {
     "name": "stdout",
     "output_type": "stream",
     "text": [
      "Enter your sentence : ValiDate\n",
      "UPPER CASE : 2\n",
      "LOWER CASE : 6\n"
     ]
    }
   ],
   "source": [
    "supplied_input = str(input(\"Enter your sentence : \"))\n",
    "supplied_input_list=[j for j in supplied_input if j.isalpha()==True]\n",
    "v_is_upper=0\n",
    "v_is_lower=0\n",
    "\n",
    "for i in supplied_input_list:\n",
    "    if i.isupper()==True:\n",
    "        v_is_upper+=1\n",
    "    elif i.isupper()==False:\n",
    "        v_is_lower+=1\n",
    "\n",
    "print('UPPER CASE :',v_is_upper)\n",
    "print('LOWER CASE :',v_is_lower)"
   ]
  },
  {
   "cell_type": "code",
   "execution_count": null,
   "id": "1af06142",
   "metadata": {},
   "outputs": [],
   "source": []
  }
 ],
 "metadata": {
  "kernelspec": {
   "display_name": "Python 3 (ipykernel)",
   "language": "python",
   "name": "python3"
  },
  "language_info": {
   "codemirror_mode": {
    "name": "ipython",
    "version": 3
   },
   "file_extension": ".py",
   "mimetype": "text/x-python",
   "name": "python",
   "nbconvert_exporter": "python",
   "pygments_lexer": "ipython3",
   "version": "3.9.16"
  }
 },
 "nbformat": 4,
 "nbformat_minor": 5
}
